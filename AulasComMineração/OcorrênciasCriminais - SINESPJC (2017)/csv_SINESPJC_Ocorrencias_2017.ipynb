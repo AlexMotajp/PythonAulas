{
 "cells": [
  {
   "cell_type": "code",
   "execution_count": 5,
   "metadata": {},
   "outputs": [],
   "source": [
    "#Importando Bibliotecas\n",
    "import pandas as pd "
   ]
  },
  {
   "cell_type": "code",
   "execution_count": 8,
   "metadata": {
    "scrolled": true
   },
   "outputs": [
    {
     "data": {
      "text/html": [
       "<div>\n",
       "<style scoped>\n",
       "    .dataframe tbody tr th:only-of-type {\n",
       "        vertical-align: middle;\n",
       "    }\n",
       "\n",
       "    .dataframe tbody tr th {\n",
       "        vertical-align: top;\n",
       "    }\n",
       "\n",
       "    .dataframe thead th {\n",
       "        text-align: right;\n",
       "    }\n",
       "</style>\n",
       "<table border=\"1\" class=\"dataframe\">\n",
       "  <thead>\n",
       "    <tr style=\"text-align: right;\">\n",
       "      <th></th>\n",
       "      <th>Regiăo</th>\n",
       "      <th>Sigla UF</th>\n",
       "      <th>UF</th>\n",
       "      <th>Código IBGE Município</th>\n",
       "      <th>Município</th>\n",
       "      <th>Tipo Crime</th>\n",
       "      <th>Męs</th>\n",
       "      <th>Męs/Ano</th>\n",
       "      <th>PC-Qtde Ocorręncias</th>\n",
       "    </tr>\n",
       "  </thead>\n",
       "  <tbody>\n",
       "    <tr>\n",
       "      <th>0</th>\n",
       "      <td>CENTRO-OESTE</td>\n",
       "      <td>DF</td>\n",
       "      <td>Distrito Federal</td>\n",
       "      <td>530010801</td>\n",
       "      <td>Brasília</td>\n",
       "      <td>Estupro</td>\n",
       "      <td>1</td>\n",
       "      <td>jan/17</td>\n",
       "      <td>3.0</td>\n",
       "    </tr>\n",
       "    <tr>\n",
       "      <th>1</th>\n",
       "      <td>CENTRO-OESTE</td>\n",
       "      <td>DF</td>\n",
       "      <td>Distrito Federal</td>\n",
       "      <td>530010801</td>\n",
       "      <td>Brasília</td>\n",
       "      <td>Estupro</td>\n",
       "      <td>2</td>\n",
       "      <td>fev/17</td>\n",
       "      <td>1.0</td>\n",
       "    </tr>\n",
       "    <tr>\n",
       "      <th>2</th>\n",
       "      <td>CENTRO-OESTE</td>\n",
       "      <td>DF</td>\n",
       "      <td>Distrito Federal</td>\n",
       "      <td>530010801</td>\n",
       "      <td>Brasília</td>\n",
       "      <td>Estupro</td>\n",
       "      <td>3</td>\n",
       "      <td>mar/17</td>\n",
       "      <td>6.0</td>\n",
       "    </tr>\n",
       "    <tr>\n",
       "      <th>3</th>\n",
       "      <td>CENTRO-OESTE</td>\n",
       "      <td>DF</td>\n",
       "      <td>Distrito Federal</td>\n",
       "      <td>530010801</td>\n",
       "      <td>Brasília</td>\n",
       "      <td>Estupro</td>\n",
       "      <td>4</td>\n",
       "      <td>abr/17</td>\n",
       "      <td>3.0</td>\n",
       "    </tr>\n",
       "    <tr>\n",
       "      <th>4</th>\n",
       "      <td>CENTRO-OESTE</td>\n",
       "      <td>DF</td>\n",
       "      <td>Distrito Federal</td>\n",
       "      <td>530010801</td>\n",
       "      <td>Brasília</td>\n",
       "      <td>Estupro</td>\n",
       "      <td>5</td>\n",
       "      <td>mai/17</td>\n",
       "      <td>8.0</td>\n",
       "    </tr>\n",
       "  </tbody>\n",
       "</table>\n",
       "</div>"
      ],
      "text/plain": [
       "         Regiăo Sigla UF                UF  Código IBGE Município Município  \\\n",
       "0  CENTRO-OESTE       DF  Distrito Federal              530010801  Brasília   \n",
       "1  CENTRO-OESTE       DF  Distrito Federal              530010801  Brasília   \n",
       "2  CENTRO-OESTE       DF  Distrito Federal              530010801  Brasília   \n",
       "3  CENTRO-OESTE       DF  Distrito Federal              530010801  Brasília   \n",
       "4  CENTRO-OESTE       DF  Distrito Federal              530010801  Brasília   \n",
       "\n",
       "  Tipo Crime  Męs Męs/Ano  PC-Qtde Ocorręncias  \n",
       "0    Estupro    1  jan/17                  3.0  \n",
       "1    Estupro    2  fev/17                  1.0  \n",
       "2    Estupro    3  mar/17                  6.0  \n",
       "3    Estupro    4  abr/17                  3.0  \n",
       "4    Estupro    5  mai/17                  8.0  "
      ]
     },
     "execution_count": 8,
     "metadata": {},
     "output_type": "execute_result"
    }
   ],
   "source": [
    "# Temos que carregar o arquivo csv\n",
    "# Temos que converter o arquivo csv em um arquivo convidativo ao python e sua biblioteca, no caso, DataFrame\n",
    "df = pd.read_csv('ocorrenciasmun-brasil2017.csv', sep=';', encoding='cp1250')\n",
    "\n",
    "# Mostrando as primeiras linhas do DataFrame\n",
    "\n",
    "df.head()"
   ]
  },
  {
   "cell_type": "code",
   "execution_count": 9,
   "metadata": {},
   "outputs": [
    {
     "data": {
      "text/plain": [
       "Regiăo                   27097\n",
       "Sigla UF                 27097\n",
       "UF                       27097\n",
       "Código IBGE Município    27097\n",
       "Município                27097\n",
       "Tipo Crime               27097\n",
       "Męs                      27097\n",
       "Męs/Ano                  27097\n",
       "PC-Qtde Ocorręncias      27097\n",
       "dtype: int64"
      ]
     },
     "execution_count": 9,
     "metadata": {},
     "output_type": "execute_result"
    }
   ],
   "source": [
    "# Vamos fazer uma contagem\n",
    "\n",
    "df.count()"
   ]
  },
  {
   "cell_type": "code",
   "execution_count": 15,
   "metadata": {},
   "outputs": [
    {
     "data": {
      "text/plain": [
       "Regiăo                    object\n",
       "Sigla UF                  object\n",
       "UF                        object\n",
       "Código IBGE Município      int64\n",
       "Município                 object\n",
       "Tipo Crime                object\n",
       "Męs                        int64\n",
       "Męs/Ano                   object\n",
       "PC-Qtde Ocorręncias      float64\n",
       "dtype: object"
      ]
     },
     "execution_count": 15,
     "metadata": {},
     "output_type": "execute_result"
    }
   ],
   "source": [
    "# Demonstra tipos de cada uma das colunas. \"Object\" é quando ele não entende\n",
    "df.dtypes"
   ]
  },
  {
   "cell_type": "code",
   "execution_count": 13,
   "metadata": {},
   "outputs": [
    {
     "data": {
      "text/html": [
       "<div>\n",
       "<style scoped>\n",
       "    .dataframe tbody tr th:only-of-type {\n",
       "        vertical-align: middle;\n",
       "    }\n",
       "\n",
       "    .dataframe tbody tr th {\n",
       "        vertical-align: top;\n",
       "    }\n",
       "\n",
       "    .dataframe thead th {\n",
       "        text-align: right;\n",
       "    }\n",
       "</style>\n",
       "<table border=\"1\" class=\"dataframe\">\n",
       "  <thead>\n",
       "    <tr style=\"text-align: right;\">\n",
       "      <th></th>\n",
       "      <th>Código IBGE Município</th>\n",
       "      <th>Męs</th>\n",
       "      <th>PC-Qtde Ocorręncias</th>\n",
       "    </tr>\n",
       "  </thead>\n",
       "  <tbody>\n",
       "    <tr>\n",
       "      <th>count</th>\n",
       "      <td>2.709700e+04</td>\n",
       "      <td>27097.000000</td>\n",
       "      <td>27097.000000</td>\n",
       "    </tr>\n",
       "    <tr>\n",
       "      <th>mean</th>\n",
       "      <td>1.412254e+07</td>\n",
       "      <td>3.475846</td>\n",
       "      <td>6.923530</td>\n",
       "    </tr>\n",
       "    <tr>\n",
       "      <th>std</th>\n",
       "      <td>7.488053e+07</td>\n",
       "      <td>1.729305</td>\n",
       "      <td>28.142846</td>\n",
       "    </tr>\n",
       "    <tr>\n",
       "      <th>min</th>\n",
       "      <td>1.200013e+06</td>\n",
       "      <td>1.000000</td>\n",
       "      <td>1.000000</td>\n",
       "    </tr>\n",
       "    <tr>\n",
       "      <th>25%</th>\n",
       "      <td>2.602902e+06</td>\n",
       "      <td>2.000000</td>\n",
       "      <td>1.000000</td>\n",
       "    </tr>\n",
       "    <tr>\n",
       "      <th>50%</th>\n",
       "      <td>3.502101e+06</td>\n",
       "      <td>4.000000</td>\n",
       "      <td>2.000000</td>\n",
       "    </tr>\n",
       "    <tr>\n",
       "      <th>75%</th>\n",
       "      <td>4.122404e+06</td>\n",
       "      <td>5.000000</td>\n",
       "      <td>4.000000</td>\n",
       "    </tr>\n",
       "    <tr>\n",
       "      <th>max</th>\n",
       "      <td>5.300108e+08</td>\n",
       "      <td>6.000000</td>\n",
       "      <td>963.000000</td>\n",
       "    </tr>\n",
       "  </tbody>\n",
       "</table>\n",
       "</div>"
      ],
      "text/plain": [
       "       Código IBGE Município           Męs  PC-Qtde Ocorręncias\n",
       "count           2.709700e+04  27097.000000         27097.000000\n",
       "mean            1.412254e+07      3.475846             6.923530\n",
       "std             7.488053e+07      1.729305            28.142846\n",
       "min             1.200013e+06      1.000000             1.000000\n",
       "25%             2.602902e+06      2.000000             1.000000\n",
       "50%             3.502101e+06      4.000000             2.000000\n",
       "75%             4.122404e+06      5.000000             4.000000\n",
       "max             5.300108e+08      6.000000           963.000000"
      ]
     },
     "execution_count": 13,
     "metadata": {},
     "output_type": "execute_result"
    }
   ],
   "source": [
    "#Ele da uma descrição quantitativa de algumas colunas\n",
    "df.describe()\n"
   ]
  },
  {
   "cell_type": "code",
   "execution_count": 19,
   "metadata": {},
   "outputs": [
    {
     "data": {
      "text/plain": [
       "Săo Sebastiăo              54\n",
       "Santa Maria                52\n",
       "Cascavel                   45\n",
       "Cachoeirinha               40\n",
       "Sarandi                    39\n",
       "Belém                      38\n",
       "Sobradinho                 36\n",
       "Guaíra                     36\n",
       "Manaus                     36\n",
       "Fortaleza                  34\n",
       "Săo Luís                   33\n",
       "Caruaru                    33\n",
       "Salvador                   32\n",
       "Redençăo                   32\n",
       "Cruzeiro                   32\n",
       "Porto Alegre               31\n",
       "Săo Gonçalo Do Amarante    31\n",
       "Bom Jardim                 31\n",
       "Curitiba                   30\n",
       "Campo Grande               30\n",
       "Ananindeua                 30\n",
       "Recife                     29\n",
       "Santa Helena               29\n",
       "Vitória Da Conquista       29\n",
       "Pelotas                    29\n",
       "Feira De Santana           29\n",
       "Viana                      29\n",
       "Caucaia                    29\n",
       "Teresina                   29\n",
       "Presidente Dutra           29\n",
       "                           ..\n",
       "Triunfo Potiguar            1\n",
       "Quadra                      1\n",
       "Vera Mendes                 1\n",
       "Central Do Maranhăo         1\n",
       "Lavras Do Sul               1\n",
       "Cerro Branco                1\n",
       "Joăo Ramalho                1\n",
       "Mirassolândia               1\n",
       "Bom Jesus Do Norte          1\n",
       "Alvorada Do Gurguéia        1\n",
       "Mirandópolis                1\n",
       "Canudos                     1\n",
       "Porto Lucena                1\n",
       "Dom Expedito Lopes          1\n",
       "Braúna                      1\n",
       "Japi                        1\n",
       "Trabiju                     1\n",
       "Abaíra                      1\n",
       "Ouroeste                    1\n",
       "Sebastiăo Barros            1\n",
       "Nossa Senhora De Nazaré     1\n",
       "Luiziânia                   1\n",
       "Dirceu Arcoverde            1\n",
       "Fernandes Pinheiro          1\n",
       "Itacuruba                   1\n",
       "Uniflor                     1\n",
       "Botuverá                    1\n",
       "Jussiape                    1\n",
       "Morro Cabeça No Tempo       1\n",
       "Liberato Salzano            1\n",
       "Name: Município, Length: 3344, dtype: int64"
      ]
     },
     "execution_count": 19,
     "metadata": {},
     "output_type": "execute_result"
    }
   ],
   "source": [
    "# Peguemos uma coluna, e vamos trazer a quantidade maxima de cada uma das município.\n",
    "# Repare no resultado, que aparece \" .. \" isso significa que era pra ter trazido mais resultados.\n",
    "df['Município'].value_counts()"
   ]
  },
  {
   "cell_type": "code",
   "execution_count": 18,
   "metadata": {},
   "outputs": [
    {
     "data": {
      "text/plain": [
       "SP    4360\n",
       "PR    3150\n",
       "BA    2639\n",
       "PE    2351\n",
       "RS    2270\n",
       "SC    1817\n",
       "MA    1557\n",
       "CE    1430\n",
       "PA    1305\n",
       "MT     894\n",
       "ES     805\n",
       "PI     747\n",
       "AL     717\n",
       "MS     615\n",
       "SE     591\n",
       "DF     559\n",
       "PB     504\n",
       "RN     382\n",
       "TO     138\n",
       "AM      96\n",
       "AP      74\n",
       "AC      61\n",
       "RR      35\n",
       "Name: Sigla UF, dtype: int64"
      ]
     },
     "execution_count": 18,
     "metadata": {},
     "output_type": "execute_result"
    }
   ],
   "source": [
    "# Vamos tentar mais uma vez só que com outra coluna...\n",
    "df['Sigla UF'].value_counts()"
   ]
  },
  {
   "cell_type": "code",
   "execution_count": null,
   "metadata": {},
   "outputs": [],
   "source": []
  }
 ],
 "metadata": {
  "kernelspec": {
   "display_name": "Python 3",
   "language": "python",
   "name": "python3"
  },
  "language_info": {
   "codemirror_mode": {
    "name": "ipython",
    "version": 3
   },
   "file_extension": ".py",
   "mimetype": "text/x-python",
   "name": "python",
   "nbconvert_exporter": "python",
   "pygments_lexer": "ipython3",
   "version": "3.7.1"
  }
 },
 "nbformat": 4,
 "nbformat_minor": 2
}
